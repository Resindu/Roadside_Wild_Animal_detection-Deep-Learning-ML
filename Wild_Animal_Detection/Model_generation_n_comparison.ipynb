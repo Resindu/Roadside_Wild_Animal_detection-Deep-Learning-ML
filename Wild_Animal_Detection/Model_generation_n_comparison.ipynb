{
 "cells": [
  {
   "cell_type": "code",
   "id": "initial_id",
   "metadata": {
    "collapsed": true,
    "ExecuteTime": {
     "end_time": "2025-03-19T13:00:20.839029Z",
     "start_time": "2025-03-19T13:00:20.826910Z"
    }
   },
   "source": [
    "import cv2\n",
    "import os\n",
    "import numpy as np\n",
    "from skimage.feature import hog, graycomatrix, graycoprops\n",
    "from sklearn.model_selection import train_test_split\n",
    "from sklearn.svm import SVC\n",
    "from sklearn.ensemble import RandomForestClassifier\n",
    "from sklearn.metrics import classification_report, accuracy_score\n",
    "from tqdm import tqdm\n",
    "from sklearn.model_selection import train_test_split\n",
    "import tensorflow as tf\n",
    "from tensorflow.keras.utils import plot_model\n",
    "from tensorflow.keras import layers, models, regularizers\n"
   ],
   "outputs": [],
   "execution_count": 287
  },
  {
   "metadata": {
    "ExecuteTime": {
     "end_time": "2025-03-19T13:00:20.857147Z",
     "start_time": "2025-03-19T13:00:20.851323Z"
    }
   },
   "cell_type": "code",
   "source": [
    "import os\n",
    "import cv2\n",
    "import numpy as np\n",
    "import random\n",
    "\n",
    "def load_dataset(preprocessed_img_dir, img_size=(224, 224), sample_fraction=0.2):\n",
    "    images = []\n",
    "    labels = []\n",
    "\n",
    "    class_mapping = {'animals': 1, 'non-animals': 0}\n",
    "\n",
    "    for folder in os.listdir(preprocessed_img_dir):\n",
    "        folder_path = os.path.join(preprocessed_img_dir, folder)\n",
    "\n",
    "        if os.path.isdir(folder_path) and folder in class_mapping:\n",
    "            label = class_mapping[folder]\n",
    "            print(f\"Assigning label {label} to folder {folder}\")\n",
    "\n",
    "            img_paths = []\n",
    "\n",
    "            # If it's an animal category, process subfolders\n",
    "            for subfolder in [os.path.join(folder_path, sf) for sf in os.listdir(folder_path)]:\n",
    "                if os.path.isdir(subfolder):\n",
    "                    img_paths.extend([os.path.join(subfolder, img) for img in os.listdir(subfolder)])\n",
    "            \n",
    "            # If it's 'non-animals', process files directly inside the folder\n",
    "            if not img_paths:\n",
    "                img_paths = [os.path.join(folder_path, img) for img in os.listdir(folder_path)]\n",
    "\n",
    "            sampled_paths = random.sample(img_paths, int(len(img_paths) * sample_fraction))\n",
    "\n",
    "            for img_path in sampled_paths:\n",
    "                img = cv2.imread(img_path, cv2.IMREAD_GRAYSCALE)\n",
    "                if img is None:\n",
    "                    print(f\"Failed to load image: {img_path}\")\n",
    "                    continue\n",
    "                img = cv2.resize(img, img_size)\n",
    "                images.append(img / 255.0)  # Normalize\n",
    "                labels.append(label)\n",
    "\n",
    "    print(f\"Total images loaded: {len(images)}\")\n",
    "    print(f\"Unique classes in labels: {np.unique(labels)}\")\n",
    "    return np.array(images), np.array(labels)\n"
   ],
   "id": "f186078ba0c322e",
   "outputs": [],
   "execution_count": 288
  },
  {
   "metadata": {
    "ExecuteTime": {
     "end_time": "2025-03-19T13:00:28.132794Z",
     "start_time": "2025-03-19T13:00:20.883723Z"
    }
   },
   "cell_type": "code",
   "source": [
    "preprocessed_img_dir = '/Users/resindunavoda/PycharmProjects/Wild_Animal_Detection/Dataset/Output'\n",
    "X, y = load_dataset(preprocessed_img_dir)"
   ],
   "id": "8442c4b42d7dfe58",
   "outputs": [
    {
     "name": "stdout",
     "output_type": "stream",
     "text": [
      "Assigning label 0 to folder non-animals\n",
      "Assigning label 1 to folder animals\n",
      "Total images loaded: 5375\n",
      "Unique classes in labels: [0 1]\n"
     ]
    }
   ],
   "execution_count": 289
  },
  {
   "metadata": {
    "ExecuteTime": {
     "end_time": "2025-03-19T13:00:31.428184Z",
     "start_time": "2025-03-19T13:00:28.230985Z"
    }
   },
   "cell_type": "code",
   "source": [
    "# Split data\n",
    "X_train, X_test, y_train, y_test = train_test_split(X, y, test_size=0.2, random_state=42, stratify=y)\n",
    "\n",
    "# Check class balance\n",
    "print(f\"Training class distribution: {np.bincount(y_train)}\")\n",
    "print(f\"Testing class distribution: {np.bincount(y_test)}\")\n",
    "print(f\"Unique classes in y_train: {np.unique(y_train)}\")\n"
   ],
   "id": "22295e1c34b96cf0",
   "outputs": [
    {
     "name": "stdout",
     "output_type": "stream",
     "text": [
      "Training class distribution: [2567 1733]\n",
      "Testing class distribution: [642 433]\n",
      "Unique classes in y_train: [0 1]\n"
     ]
    }
   ],
   "execution_count": 290
  },
  {
   "metadata": {
    "ExecuteTime": {
     "end_time": "2025-03-19T13:00:31.596146Z",
     "start_time": "2025-03-19T13:00:31.564740Z"
    }
   },
   "cell_type": "code",
   "source": [
    "for label, folder in enumerate(os.listdir(preprocessed_img_dir)):\n",
    "    folder_path = os.path.join(preprocessed_img_dir, folder)\n",
    "    if os.path.isdir(folder_path):\n",
    "        print(f\"Label: {label}, Folder: {folder}, Image count: {len(os.listdir(folder_path))}\")\n"
   ],
   "id": "7fb24a0d0c97209d",
   "outputs": [
    {
     "name": "stdout",
     "output_type": "stream",
     "text": [
      "Label: 1, Folder: non-animals, Image count: 16048\n",
      "Label: 2, Folder: animals, Image count: 12\n"
     ]
    }
   ],
   "execution_count": 291
  },
  {
   "metadata": {
    "ExecuteTime": {
     "end_time": "2025-03-19T13:00:31.762671Z",
     "start_time": "2025-03-19T13:00:31.757037Z"
    }
   },
   "cell_type": "code",
   "source": [
    "def check_class_distribution(y):\n",
    "    unique, counts = np.unique(y, return_counts=True)\n",
    "    print(\"Class distribution:\", dict(zip(unique, counts)))\n",
    "    \n",
    "check_class_distribution(y)\n"
   ],
   "id": "d1b93bec5214d52c",
   "outputs": [
    {
     "name": "stdout",
     "output_type": "stream",
     "text": [
      "Class distribution: {np.int64(0): np.int64(3209), np.int64(1): np.int64(2166)}\n"
     ]
    }
   ],
   "execution_count": 292
  },
  {
   "metadata": {},
   "cell_type": "markdown",
   "source": "#CNN model\n",
   "id": "2635172653628ff"
  },
  {
   "metadata": {
    "ExecuteTime": {
     "end_time": "2025-03-19T13:00:32.770167Z",
     "start_time": "2025-03-19T13:00:31.865976Z"
    }
   },
   "cell_type": "code",
   "source": [
    "def build_model(input_shape=(224, 224, 1)):\n",
    "    model = models.Sequential()\n",
    "\n",
    "    model.add(layers.Conv2D(32, (3, 3), activation='relu', input_shape=input_shape,\n",
    "                            kernel_regularizer=regularizers.l2(0.001)))\n",
    "    model.add(layers.MaxPooling2D((2, 2)))\n",
    "    model.add(layers.Dropout(0.25))\n",
    "\n",
    "    model.add(layers.Conv2D(64, (3, 3), activation='relu', kernel_regularizer=regularizers.l2(0.001)))\n",
    "    model.add(layers.MaxPooling2D((2, 2)))\n",
    "    model.add(layers.Dropout(0.25))\n",
    "\n",
    "    model.add(layers.Conv2D(128, (3, 3), activation='relu', kernel_regularizer=regularizers.l2(0.001)))\n",
    "    model.add(layers.MaxPooling2D((2, 2)))\n",
    "    model.add(layers.Dropout(0.25))\n",
    "\n",
    "    model.add(layers.Flatten())\n",
    "    model.add(layers.Dense(128, activation='relu', kernel_regularizer=regularizers.l2(0.001)))\n",
    "    model.add(layers.Dropout(0.5))\n",
    "    model.add(layers.Dense(1, activation='sigmoid'))\n",
    "\n",
    "    model.compile(optimizer='adam', loss='binary_crossentropy', metrics=['accuracy'])\n",
    "\n",
    "    return model# Build and assign the model\n",
    "cnn_model = build_model()\n"
   ],
   "id": "ee76f29961c0532a",
   "outputs": [
    {
     "name": "stderr",
     "output_type": "stream",
     "text": [
      "/Users/resindunavoda/PycharmProjects/Wild_Animal_Detection/.venv/lib/python3.12/site-packages/keras/src/layers/convolutional/base_conv.py:107: UserWarning: Do not pass an `input_shape`/`input_dim` argument to a layer. When using Sequential models, prefer using an `Input(shape)` object as the first layer in the model instead.\n",
      "  super().__init__(activity_regularizer=activity_regularizer, **kwargs)\n"
     ]
    }
   ],
   "execution_count": 293
  },
  {
   "metadata": {
    "ExecuteTime": {
     "end_time": "2025-03-19T13:16:16.580157Z",
     "start_time": "2025-03-19T13:00:32.780533Z"
    }
   },
   "cell_type": "code",
   "source": "history = cnn_model.fit(X_train, y_train, epochs=10, batch_size=32, validation_data=(X_test, y_test))\n",
   "id": "d4099bb4761e5382",
   "outputs": [
    {
     "name": "stdout",
     "output_type": "stream",
     "text": [
      "Epoch 1/10\n",
      "\u001B[1m135/135\u001B[0m \u001B[32m━━━━━━━━━━━━━━━━━━━━\u001B[0m\u001B[37m\u001B[0m \u001B[1m95s\u001B[0m 693ms/step - accuracy: 0.6002 - loss: 1.1179 - val_accuracy: 0.7637 - val_loss: 0.6725\n",
      "Epoch 2/10\n",
      "\u001B[1m135/135\u001B[0m \u001B[32m━━━━━━━━━━━━━━━━━━━━\u001B[0m\u001B[37m\u001B[0m \u001B[1m92s\u001B[0m 678ms/step - accuracy: 0.7741 - loss: 0.6195 - val_accuracy: 0.8177 - val_loss: 0.5669\n",
      "Epoch 3/10\n",
      "\u001B[1m135/135\u001B[0m \u001B[32m━━━━━━━━━━━━━━━━━━━━\u001B[0m\u001B[37m\u001B[0m \u001B[1m91s\u001B[0m 675ms/step - accuracy: 0.8271 - loss: 0.5194 - val_accuracy: 0.8874 - val_loss: 0.4178\n",
      "Epoch 4/10\n",
      "\u001B[1m135/135\u001B[0m \u001B[32m━━━━━━━━━━━━━━━━━━━━\u001B[0m\u001B[37m\u001B[0m \u001B[1m98s\u001B[0m 725ms/step - accuracy: 0.8612 - loss: 0.4417 - val_accuracy: 0.8800 - val_loss: 0.4111\n",
      "Epoch 5/10\n",
      "\u001B[1m135/135\u001B[0m \u001B[32m━━━━━━━━━━━━━━━━━━━━\u001B[0m\u001B[37m\u001B[0m \u001B[1m95s\u001B[0m 703ms/step - accuracy: 0.8874 - loss: 0.4011 - val_accuracy: 0.8726 - val_loss: 0.4022\n",
      "Epoch 6/10\n",
      "\u001B[1m135/135\u001B[0m \u001B[32m━━━━━━━━━━━━━━━━━━━━\u001B[0m\u001B[37m\u001B[0m \u001B[1m91s\u001B[0m 670ms/step - accuracy: 0.8795 - loss: 0.4069 - val_accuracy: 0.8856 - val_loss: 0.3859\n",
      "Epoch 7/10\n",
      "\u001B[1m135/135\u001B[0m \u001B[32m━━━━━━━━━━━━━━━━━━━━\u001B[0m\u001B[37m\u001B[0m \u001B[1m95s\u001B[0m 701ms/step - accuracy: 0.8806 - loss: 0.3927 - val_accuracy: 0.8828 - val_loss: 0.4083\n",
      "Epoch 8/10\n",
      "\u001B[1m135/135\u001B[0m \u001B[32m━━━━━━━━━━━━━━━━━━━━\u001B[0m\u001B[37m\u001B[0m \u001B[1m91s\u001B[0m 673ms/step - accuracy: 0.8815 - loss: 0.4034 - val_accuracy: 0.8977 - val_loss: 0.3569\n",
      "Epoch 9/10\n",
      "\u001B[1m135/135\u001B[0m \u001B[32m━━━━━━━━━━━━━━━━━━━━\u001B[0m\u001B[37m\u001B[0m \u001B[1m92s\u001B[0m 679ms/step - accuracy: 0.8932 - loss: 0.3584 - val_accuracy: 0.8781 - val_loss: 0.3662\n",
      "Epoch 10/10\n",
      "\u001B[1m135/135\u001B[0m \u001B[32m━━━━━━━━━━━━━━━━━━━━\u001B[0m\u001B[37m\u001B[0m \u001B[1m94s\u001B[0m 695ms/step - accuracy: 0.8899 - loss: 0.3675 - val_accuracy: 0.8921 - val_loss: 0.3777\n"
     ]
    }
   ],
   "execution_count": 294
  },
  {
   "metadata": {},
   "cell_type": "markdown",
   "source": "#prediction",
   "id": "c8381bc7123e800"
  },
  {
   "metadata": {
    "ExecuteTime": {
     "end_time": "2025-03-19T13:16:16.719891Z",
     "start_time": "2025-03-19T13:16:16.702361Z"
    }
   },
   "cell_type": "code",
   "source": [
    "import cv2\n",
    "import numpy as np\n",
    "from tensorflow.keras.preprocessing import image\n",
    "\n",
    "def predict_image(img_path, cnn_model=None, img_size=(224, 224)):\n",
    "    # Load the thermal image (grayscale)\n",
    "    img = cv2.imread(img_path, cv2.IMREAD_GRAYSCALE)\n",
    "    if img is None:\n",
    "        print(\"Error: Could not load image!\")\n",
    "        return None\n",
    "\n",
    "    # Resize image to the size expected by the CNN\n",
    "    img_resized = cv2.resize(img, img_size)\n",
    "\n",
    "    # Debug: Check the image shape\n",
    "    print(f\"Image shape after resize: {img_resized.shape}\")\n",
    "\n",
    "    # Normalize and prepare the image for CNN\n",
    "    img_normalized = img_resized / 255.0  # Normalize the pixel values\n",
    "\n",
    "    # Add an extra dimension for channels (height, width, channels)\n",
    "    img_cnn = np.expand_dims(img_normalized, axis=-1)  # Shape: (224, 224, 1)\n",
    "\n",
    "    # Add batch dimension (1, height, width, channels)\n",
    "    img_cnn = np.expand_dims(img_cnn, axis=0)  # Shape: (1, 224, 224, 1)\n",
    "\n",
    "    # Debug: Check the shape before feeding it to the CNN\n",
    "    print(f\"Shape of image going into CNN: {img_cnn.shape}\")\n",
    "\n",
    "    # Check the CNN model's expected input shape\n",
    "    print(f\"Expected input shape by CNN model: {cnn_model.input_shape}\")\n",
    "\n",
    "    predictions = {}\n",
    "\n",
    "    # If CNN model is provided, process and predict \n",
    "    if cnn_model:\n",
    "        try:\n",
    "            cnn_pred = cnn_model.predict(img_cnn)[0][0]  # Get prediction value\n",
    "            print(f\"CNN prediction: {cnn_pred}\")\n",
    "            predictions[\"cnn\"] = \"Animal\" if cnn_pred >= 0.5 else \"No Animal\"\n",
    "        except Exception as e:\n",
    "            print(f\"Error during CNN prediction: {e}\")\n",
    "            predictions[\"cnn\"] = \"Error\"\n",
    "\n",
    "    return predictions\n",
    "\n",
    "# # Example Usage:\n",
    "# img_path = '/Users/resindunavoda/PycharmProjects/Wild_Animal_Detection/dee.jpg'\n",
    "# result = predict_image(img_path, cnn_model=cnn_model)\n",
    "# print(f\"Prediction: {result}\")\n"
   ],
   "id": "5a37356ab690352c",
   "outputs": [],
   "execution_count": 295
  },
  {
   "metadata": {},
   "cell_type": "markdown",
   "source": "#Model evaluation\n",
   "id": "8da60f19658690d9"
  },
  {
   "metadata": {
    "ExecuteTime": {
     "end_time": "2025-03-19T13:16:24.011980Z",
     "start_time": "2025-03-19T13:16:16.732127Z"
    }
   },
   "cell_type": "code",
   "source": [
    "# Evaluate the model on the test set\n",
    "test_loss, test_acc = cnn_model.evaluate(X_test, y_test)\n",
    "print(f\"Test accuracy: {test_acc * 100:.2f}%\")"
   ],
   "id": "2add0de6c2a141bf",
   "outputs": [
    {
     "name": "stdout",
     "output_type": "stream",
     "text": [
      "\u001B[1m34/34\u001B[0m \u001B[32m━━━━━━━━━━━━━━━━━━━━\u001B[0m\u001B[37m\u001B[0m \u001B[1m5s\u001B[0m 158ms/step - accuracy: 0.8791 - loss: 0.4008\n",
      "Test accuracy: 89.21%\n"
     ]
    }
   ],
   "execution_count": 296
  },
  {
   "metadata": {},
   "cell_type": "markdown",
   "source": "",
   "id": "d578e953ec6a6613"
  },
  {
   "metadata": {
    "ExecuteTime": {
     "end_time": "2025-03-19T13:16:24.034498Z",
     "start_time": "2025-03-19T13:16:24.031558Z"
    }
   },
   "cell_type": "code",
   "source": "print(f\"Shape of X_test: {X_test.shape}\")\n",
   "id": "d16d71c5ba591ffa",
   "outputs": [
    {
     "name": "stdout",
     "output_type": "stream",
     "text": [
      "Shape of X_test: (1075, 224, 224)\n"
     ]
    }
   ],
   "execution_count": 297
  },
  {
   "metadata": {
    "ExecuteTime": {
     "end_time": "2025-03-19T13:16:29.798104Z",
     "start_time": "2025-03-19T13:16:24.046275Z"
    }
   },
   "cell_type": "code",
   "source": [
    "X_test = X_test.reshape(-1, 224, 224, 1)  # Add channel dimension\n",
    "\n",
    "# Predict probabilities\n",
    "y_pred_probs = cnn_model.predict(X_test)\n",
    "\n",
    "# Convert to binary (0 or 1) using a threshold of 0.5\n",
    "y_pred_cnn = (y_pred_probs > 0.5).astype(int)\n",
    "print(classification_report(y_test, y_pred_cnn))\n"
   ],
   "id": "53f79adcdbb7cfaf",
   "outputs": [
    {
     "name": "stdout",
     "output_type": "stream",
     "text": [
      "\u001B[1m34/34\u001B[0m \u001B[32m━━━━━━━━━━━━━━━━━━━━\u001B[0m\u001B[37m\u001B[0m \u001B[1m5s\u001B[0m 160ms/step\n",
      "              precision    recall  f1-score   support\n",
      "\n",
      "           0       0.88      0.95      0.91       642\n",
      "           1       0.91      0.81      0.86       433\n",
      "\n",
      "    accuracy                           0.89      1075\n",
      "   macro avg       0.90      0.88      0.89      1075\n",
      "weighted avg       0.89      0.89      0.89      1075\n",
      "\n"
     ]
    }
   ],
   "execution_count": 298
  },
  {
   "metadata": {
    "ExecuteTime": {
     "end_time": "2025-03-19T13:16:29.878042Z",
     "start_time": "2025-03-19T13:16:29.817843Z"
    }
   },
   "cell_type": "code",
   "source": [
    "img_path = '/Users/resindunavoda/PycharmProjects/Wild_Animal_Detection/dee.jpg'\n",
    "# model = model\n",
    "result = predict_image(img_path, cnn_model)\n",
    "print(f\"Prediction: {result}\")"
   ],
   "id": "5282d900bd308687",
   "outputs": [
    {
     "name": "stdout",
     "output_type": "stream",
     "text": [
      "Image shape after resize: (224, 224)\n",
      "Shape of image going into CNN: (1, 224, 224, 1)\n",
      "Expected input shape by CNN model: (None, 224, 224, 1)\n",
      "\u001B[1m1/1\u001B[0m \u001B[32m━━━━━━━━━━━━━━━━━━━━\u001B[0m\u001B[37m\u001B[0m \u001B[1m0s\u001B[0m 23ms/step\n",
      "CNN prediction: 0.9712620973587036\n",
      "Prediction: {'cnn': 'Animal'}\n"
     ]
    }
   ],
   "execution_count": 299
  },
  {
   "metadata": {},
   "cell_type": "markdown",
   "source": "Compute Precision, Recall, and F1-score\n",
   "id": "f3353581d08f2abe"
  },
  {
   "metadata": {
    "ExecuteTime": {
     "end_time": "2025-03-19T13:16:29.900150Z",
     "start_time": "2025-03-19T13:16:29.892123Z"
    }
   },
   "cell_type": "code",
   "source": [
    "from sklearn.metrics import precision_score, recall_score, f1_score\n",
    "\n",
    "# Calculate metrics\n",
    "precision = precision_score(y_test, y_pred_cnn)\n",
    "recall = recall_score(y_test, y_pred_cnn)\n",
    "f1 = f1_score(y_test, y_pred_cnn)\n",
    "\n",
    "print(f\"Precision: {precision:.4f}\")\n",
    "print(f\"Recall: {recall:.4f}\")\n",
    "print(f\"F1-Score: {f1:.4f}\")\n"
   ],
   "id": "bdf027fb8d7c5764",
   "outputs": [
    {
     "name": "stdout",
     "output_type": "stream",
     "text": [
      "Precision: 0.9138\n",
      "Recall: 0.8083\n",
      "F1-Score: 0.8578\n"
     ]
    }
   ],
   "execution_count": 300
  },
  {
   "metadata": {},
   "cell_type": "markdown",
   "source": "Plot the Confusion Matrix",
   "id": "20dc7ca527c6e8ee"
  },
  {
   "metadata": {
    "ExecuteTime": {
     "end_time": "2025-03-19T13:16:30.081771Z",
     "start_time": "2025-03-19T13:16:29.913499Z"
    }
   },
   "cell_type": "code",
   "source": [
    "import seaborn as sns\n",
    "import matplotlib.pyplot as plt\n",
    "from sklearn.metrics import confusion_matrix\n",
    "\n",
    "# Compute confusion matrix\n",
    "cm = confusion_matrix(y_test, y_pred_cnn)\n",
    "\n",
    "# Plot the confusion matrix\n",
    "plt.figure(figsize=(5, 4))\n",
    "sns.heatmap(cm, annot=True, fmt=\"d\", cmap=\"Blues\", xticklabels=[\"No Animal\", \"Animal\"], yticklabels=[\"No Animal\", \"Animal\"])\n",
    "plt.xlabel(\"Predicted Label\")\n",
    "plt.ylabel(\"True Label\")\n",
    "plt.title(\"Confusion Matrix\")\n",
    "plt.show()"
   ],
   "id": "6d73e7fe0576809b",
   "outputs": [
    {
     "data": {
      "text/plain": [
       "<Figure size 500x400 with 2 Axes>"
      ],
      "image/png": "[encoded data removed]"
     },
     "metadata": {},
     "output_type": "display_data"
    }
   ],
   "execution_count": 301
  },
  {
   "metadata": {},
   "cell_type": "markdown",
   "source": "Plot the ROC Curve (For Probability-Based Analysis)\n",
   "id": "fce3181ecaebb1e0"
  },
  {
   "metadata": {
    "ExecuteTime": {
     "end_time": "2025-03-19T13:16:35.354636Z",
     "start_time": "2025-03-19T13:16:30.094287Z"
    }
   },
   "cell_type": "code",
   "source": [
    "from sklearn.metrics import roc_curve, auc\n",
    "\n",
    "# Get predicted probabilities\n",
    "y_pred_probs = cnn_model.predict(X_test).ravel()\n",
    "\n",
    "# Compute ROC curve\n",
    "fpr, tpr, _ = roc_curve(y_test, y_pred_probs)\n",
    "roc_auc = auc(fpr, tpr)\n",
    "\n",
    "# Plot ROC curve\n",
    "plt.figure(figsize=(6, 5))\n",
    "plt.plot(fpr, tpr, color='blue', lw=2, label=f'ROC Curve (AUC = {roc_auc:.2f})')\n",
    "plt.plot([0, 1], [0, 1], color='grey', linestyle='--')  # Diagonal line (random guessing)\n",
    "plt.xlabel(\"False Positive Rate\")\n",
    "plt.ylabel(\"True Positive Rate\")\n",
    "plt.title(\"Receiver Operating Characteristic (ROC) Curve\")\n",
    "plt.legend(loc=\"lower right\")\n",
    "plt.show()\n"
   ],
   "id": "c6c83bce76d0b35a",
   "outputs": [
    {
     "name": "stdout",
     "output_type": "stream",
     "text": [
      "\u001B[1m34/34\u001B[0m \u001B[32m━━━━━━━━━━━━━━━━━━━━\u001B[0m\u001B[37m\u001B[0m \u001B[1m5s\u001B[0m 145ms/step\n"
     ]
    },
    {
     "data": {
      "text/plain": [
       "<Figure size 600x500 with 1 Axes>"
      ],
      "image/png": "[encoded data removed]"
     },
     "metadata": {},
     "output_type": "display_data"
    }
   ],
   "execution_count": 302
  },
  {
   "metadata": {
    "ExecuteTime": {
     "end_time": "2025-03-19T13:16:35.477481Z",
     "start_time": "2025-03-19T13:16:35.374719Z"
    }
   },
   "cell_type": "code",
   "source": [
    "import matplotlib.pyplot as plt\n",
    "\n",
    "# Plot training & validation accuracy values\n",
    "plt.plot(history.history['accuracy'])\n",
    "plt.plot(history.history['val_accuracy'])\n",
    "plt.title('Model accuracy')\n",
    "plt.xlabel('Epoch')\n",
    "plt.ylabel('Accuracy')\n",
    "plt.legend(['Train', 'Test'], loc='upper left')\n",
    "plt.show()\n",
    "\n",
    "# Plot training & validation loss values\n",
    "plt.plot(history.history['loss'])\n",
    "plt.plot(history.history['val_loss'])\n",
    "plt.title('Model loss')\n",
    "plt.xlabel('Epoch')\n",
    "plt.ylabel('Loss')\n",
    "plt.legend(['Train', 'Test'], loc='upper left')\n",
    "plt.show()"
   ],
   "id": "c320411b4e2daada",
   "outputs": [
    {
     "data": {
      "text/plain": [
       "<Figure size 640x480 with 1 Axes>"
      ],
      "image/png": "[encoded data removed]"
     },
     "metadata": {},
     "output_type": "display_data"
    },
    {
     "data": {
      "text/plain": [
       "<Figure size 640x480 with 1 Axes>"
      ],
      "image/png": "[encoded data removed]"
     },
     "metadata": {},
     "output_type": "display_data"
    }
   ],
   "execution_count": 303
  },
  {
   "metadata": {},
   "cell_type": "markdown",
   "source": [
    "#SVM\n",
    "\n"
   ],
   "id": "d824ba8987997d35"
  },
  {
   "metadata": {
    "ExecuteTime": {
     "end_time": "2025-03-19T13:16:35.494957Z",
     "start_time": "2025-03-19T13:16:35.489762Z"
    }
   },
   "cell_type": "code",
   "source": [
    "# Extract HOG features\n",
    "def extract_hog_features(images):\n",
    "    hog_features = []\n",
    "    for img in tqdm(images, desc=\"Extracting HOG features\"):\n",
    "        if len(img.shape) == 3:  # Check if image has a channel dimension\n",
    "            img = img.squeeze()  # Remove channel dimension if present\n",
    "        features = hog(img, orientations=9, pixels_per_cell=(8, 8), \n",
    "                       cells_per_block=(2, 2), feature_vector=True)\n",
    "        hog_features.append(features)\n",
    "    return np.array(hog_features)"
   ],
   "id": "cdb693bc6bfe4bb3",
   "outputs": [],
   "execution_count": 304
  },
  {
   "metadata": {
    "ExecuteTime": {
     "end_time": "2025-03-19T13:18:27.183921Z",
     "start_time": "2025-03-19T13:16:35.506399Z"
    }
   },
   "cell_type": "code",
   "source": [
    "\n",
    "# HOG + SVM pipeline\n",
    "#Histogram of Oriented Gradients(used to extracts shape-based features)\n",
    "X_train_hog = extract_hog_features(X_train)\n",
    "X_test_hog = extract_hog_features(X_test)\n",
    "\n",
    "svm_model = SVC(kernel='linear', C=1.0)\n",
    "svm_model.fit(X_train_hog, y_train)\n",
    "y_pred_svm = svm_model.predict(X_test_hog)\n",
    "\n",
    "print(\"\\nSVM with HOG Features\")\n",
    "print(classification_report(y_test, y_pred_svm))\n",
    "print(f\"Accuracy: {accuracy_score(y_test, y_pred_svm) * 100:.2f}%\")\n",
    "\n",
    "\n"
   ],
   "id": "9fa83a765223b0ba",
   "outputs": [
    {
     "name": "stderr",
     "output_type": "stream",
     "text": [
      "Extracting HOG features: 100%|██████████| 4300/4300 [00:40<00:00, 105.68it/s]\n",
      "Extracting HOG features: 100%|██████████| 1075/1075 [00:10<00:00, 102.40it/s]\n"
     ]
    },
    {
     "name": "stdout",
     "output_type": "stream",
     "text": [
      "\n",
      "SVM with HOG Features\n",
      "              precision    recall  f1-score   support\n",
      "\n",
      "           0       0.90      0.89      0.89       642\n",
      "           1       0.84      0.85      0.84       433\n",
      "\n",
      "    accuracy                           0.87      1075\n",
      "   macro avg       0.87      0.87      0.87      1075\n",
      "weighted avg       0.87      0.87      0.87      1075\n",
      "\n",
      "Accuracy: 87.26%\n"
     ]
    }
   ],
   "execution_count": 305
  },
  {
   "metadata": {
    "ExecuteTime": {
     "end_time": "2025-03-19T13:18:27.385080Z",
     "start_time": "2025-03-19T13:18:27.368198Z"
    }
   },
   "cell_type": "code",
   "source": [
    "from sklearn.metrics import precision_score, recall_score, f1_score, confusion_matrix\n",
    "# Calculate metrics\n",
    "precision = precision_score(y_test, y_pred_cnn)\n",
    "recall = recall_score(y_test, y_pred_cnn)\n",
    "f1 = f1_score(y_test, y_pred_cnn)\n",
    "\n",
    "print(f\"Precision: {precision:.4f}\")\n",
    "print(f\"Recall: {recall:.4f}\")\n",
    "print(f\"F1-Score: {f1:.4f}\")\n",
    "\n",
    "# # Confusion Matrix\n",
    "# cm = confusion_matrix(y_test, y_pred)\n",
    "# print(f\"Confusion Matrix:\\n{cm}\")\n"
   ],
   "id": "a97d2978fbaff8f0",
   "outputs": [
    {
     "name": "stdout",
     "output_type": "stream",
     "text": [
      "Precision: 0.9138\n",
      "Recall: 0.8083\n",
      "F1-Score: 0.8578\n"
     ]
    }
   ],
   "execution_count": 306
  },
  {
   "metadata": {
    "ExecuteTime": {
     "end_time": "2025-03-19T13:18:27.606994Z",
     "start_time": "2025-03-19T13:18:27.475685Z"
    }
   },
   "cell_type": "code",
   "source": [
    "import seaborn as sns\n",
    "import matplotlib.pyplot as plt\n",
    "from sklearn.metrics import confusion_matrix\n",
    "\n",
    "# Compute confusion matrix\n",
    "cm = confusion_matrix(y_test, y_pred_svm)\n",
    "\n",
    "# Plot the confusion matrix\n",
    "plt.figure(figsize=(5, 4))\n",
    "sns.heatmap(cm, annot=True, fmt=\"d\", cmap=\"Blues\", xticklabels=[\"No Animal\", \"Animal\"], yticklabels=[\"No Animal\", \"Animal\"])\n",
    "plt.xlabel(\"Predicted Label\")\n",
    "plt.ylabel(\"True Label\")\n",
    "plt.title(\"Confusion Matrix\")\n",
    "plt.show()\n"
   ],
   "id": "22d5d5790dfe4b8d",
   "outputs": [
    {
     "data": {
      "text/plain": [
       "<Figure size 500x400 with 2 Axes>"
      ],
      "image/png": "[encoded data removed]"
     },
     "metadata": {},
     "output_type": "display_data"
    }
   ],
   "execution_count": 307
  },
  {
   "metadata": {},
   "cell_type": "markdown",
   "source": "#Random Forest\n",
   "id": "79cb31b8b035b0cc"
  },
  {
   "metadata": {
    "ExecuteTime": {
     "end_time": "2025-03-19T13:18:27.626867Z",
     "start_time": "2025-03-19T13:18:27.624052Z"
    }
   },
   "cell_type": "code",
   "source": [
    "# def extract_glcm_features(images):\n",
    "#     glcm_features = []\n",
    "#     for img in tqdm(images, desc=\"Extracting GLCM features\"):\n",
    "#         glcm = graycomatrix((img * 255).astype(np.uint8), distances=[1], angles=[0], levels=256, symmetric=True, normed=True)\n",
    "#         contrast = graycoprops(glcm, 'contrast')[0, 0]\n",
    "#         dissimilarity = graycoprops(glcm, 'dissimilarity')[0, 0]\n",
    "#         homogeneity = graycoprops(glcm, 'homogeneity')[0, 0]\n",
    "#         energy = graycoprops(glcm, 'energy')[0, 0]\n",
    "#         correlation = graycoprops(glcm, 'correlation')[0, 0]\n",
    "#         glcm_features.append([contrast, dissimilarity, homogeneity, energy, correlation])\n",
    "#     return np.array(glcm_features)"
   ],
   "id": "2342077a61e50ce7",
   "outputs": [],
   "execution_count": 308
  },
  {
   "metadata": {
    "ExecuteTime": {
     "end_time": "2025-03-19T13:18:27.670141Z",
     "start_time": "2025-03-19T13:18:27.651444Z"
    }
   },
   "cell_type": "code",
   "source": [
    "def extract_glcm_features(images):\n",
    "    glcm_features = []\n",
    "    for img in tqdm(images, desc=\"Extracting GLCM features\"):\n",
    "        if img.ndim == 3:  # Remove extra channel if present\n",
    "            img = img.squeeze()\n",
    "\n",
    "        if img.ndim != 2:  # Ensure image is 2D\n",
    "            raise ValueError(f\"Unexpected image shape {img.shape}, expected (height, width)\")\n",
    "\n",
    "        img_uint8 = (img * 255).astype(np.uint8) if img.max() <= 1 else img.astype(np.uint8)\n",
    "\n",
    "        glcm = graycomatrix(img_uint8, distances=[1], angles=[0], levels=256, symmetric=True, normed=True)\n",
    "        contrast = graycoprops(glcm, 'contrast')[0, 0]\n",
    "        dissimilarity = graycoprops(glcm, 'dissimilarity')[0, 0]\n",
    "        homogeneity = graycoprops(glcm, 'homogeneity')[0, 0]\n",
    "        energy = graycoprops(glcm, 'energy')[0, 0]\n",
    "        correlation = graycoprops(glcm, 'correlation')[0, 0]\n",
    "\n",
    "        glcm_features.append([contrast, dissimilarity, homogeneity, energy, correlation])\n",
    "\n",
    "    return np.array(glcm_features)"
   ],
   "id": "5dc304c87d5f5aa1",
   "outputs": [],
   "execution_count": 309
  },
  {
   "metadata": {
    "ExecuteTime": {
     "end_time": "2025-03-19T13:18:43.055851Z",
     "start_time": "2025-03-19T13:18:27.682495Z"
    }
   },
   "cell_type": "code",
   "source": [
    "# GLCM + Random Forest pipeline\n",
    "#Gray-Level Co-occurrence Matrix(used to extracts texture)\n",
    "X_train_glcm = extract_glcm_features(X_train)\n",
    "X_test_glcm = extract_glcm_features(X_test)\n",
    "\n",
    "rf_model = RandomForestClassifier(n_estimators=100, random_state=42)\n",
    "rf_model.fit(X_train_glcm, y_train)\n",
    "y_pred_rf = rf_model.predict(X_test_glcm)\n",
    "\n",
    "\n"
   ],
   "id": "c25b6e0ee8495e9a",
   "outputs": [
    {
     "name": "stderr",
     "output_type": "stream",
     "text": [
      "Extracting GLCM features: 100%|██████████| 4300/4300 [00:12<00:00, 355.13it/s]\n",
      "Extracting GLCM features: 100%|██████████| 1075/1075 [00:02<00:00, 400.43it/s]\n"
     ]
    }
   ],
   "execution_count": 310
  },
  {
   "metadata": {},
   "cell_type": "markdown",
   "source": "#Random Forest+GLCM Evaluation",
   "id": "7a111aac11da4f67"
  },
  {
   "metadata": {
    "ExecuteTime": {
     "end_time": "2025-03-19T13:18:43.104284Z",
     "start_time": "2025-03-19T13:18:43.095218Z"
    }
   },
   "cell_type": "code",
   "source": [
    "print(\"\\nRandom Forest with GLCM Features\")\n",
    "print(classification_report(y_test, y_pred_rf))\n",
    "print(f\"Accuracy: {accuracy_score(y_test, y_pred_rf) * 100:.2f}%\")"
   ],
   "id": "24c99020a2f9d674",
   "outputs": [
    {
     "name": "stdout",
     "output_type": "stream",
     "text": [
      "\n",
      "Random Forest with GLCM Features\n",
      "              precision    recall  f1-score   support\n",
      "\n",
      "           0       0.88      0.87      0.87       642\n",
      "           1       0.81      0.83      0.82       433\n",
      "\n",
      "    accuracy                           0.85      1075\n",
      "   macro avg       0.84      0.85      0.85      1075\n",
      "weighted avg       0.85      0.85      0.85      1075\n",
      "\n",
      "Accuracy: 85.12%\n"
     ]
    }
   ],
   "execution_count": 311
  },
  {
   "metadata": {
    "ExecuteTime": {
     "end_time": "2025-03-19T13:18:43.184250Z",
     "start_time": "2025-03-19T13:18:43.178694Z"
    }
   },
   "cell_type": "code",
   "source": [
    "from sklearn.metrics import precision_score, recall_score, f1_score\n",
    "\n",
    "# Calculate Precision, Recall, and F1-Score\n",
    "precision = precision_score(y_test, y_pred_rf)\n",
    "recall = recall_score(y_test, y_pred_rf)\n",
    "f1 = f1_score(y_test, y_pred_rf)\n",
    "\n",
    "# Print the evaluation metrics\n",
    "print(f\"Precision: {precision:.4f}\")\n",
    "print(f\"Recall: {recall:.4f}\")\n",
    "print(f\"F1-Score: {f1:.4f}\")\n"
   ],
   "id": "b4882c97acb559c",
   "outputs": [
    {
     "name": "stdout",
     "output_type": "stream",
     "text": [
      "Precision: 0.8081\n",
      "Recall: 0.8268\n",
      "F1-Score: 0.8174\n"
     ]
    }
   ],
   "execution_count": 312
  },
  {
   "metadata": {},
   "cell_type": "markdown",
   "source": "#Prediction",
   "id": "de1d2b6d222199f6"
  },
  {
   "metadata": {
    "ExecuteTime": {
     "end_time": "2025-03-19T13:18:43.276594Z",
     "start_time": "2025-03-19T13:18:43.253411Z"
    }
   },
   "cell_type": "code",
   "source": [
    "import cv2\n",
    "import numpy as np\n",
    "from skimage.feature import hog, graycomatrix, graycoprops\n",
    "from tensorflow.keras.preprocessing import image\n",
    "from tqdm import tqdm\n",
    "\n",
    "\n",
    "# Main prediction function\n",
    "def predict_image(img_path, cnn_model=None, svm_model=None, rf_model=None, img_size=(224, 224)):\n",
    "    # Load the thermal image (grayscale)\n",
    "    img = cv2.imread(img_path, cv2.IMREAD_GRAYSCALE)\n",
    "    if img is None:\n",
    "        print(\"Error: Could not load image!\")\n",
    "        return {'cnn': 'Error', 'svm': 'Error', 'rf': 'Error'}\n",
    "\n",
    "    # Resize image to the size expected by the CNN and other models\n",
    "    img_resized = cv2.resize(img, img_size)\n",
    "\n",
    "    # Debug: Check the image shape\n",
    "    print(f\"Image shape after resize: {img_resized.shape}\")\n",
    "\n",
    "    # Normalize the image for CNN\n",
    "    img_normalized = img_resized / 255.0  # Normalize the pixel values\n",
    "    \n",
    "    # Prepare image for CNN (adding channel and batch dimensions)\n",
    "    img_cnn = np.expand_dims(img_normalized, axis=-1)  # Shape: (224, 224, 1)\n",
    "    img_cnn = np.expand_dims(img_cnn, axis=0)  # Shape: (1, 224, 224, 1)\n",
    "    \n",
    "    # Extract HOG features for SVM\n",
    "    hog_features = hog(img_resized, orientations=9, pixels_per_cell=(8, 8),\n",
    "                       cells_per_block=(2, 2), feature_vector=True).reshape(1, -1)\n",
    "\n",
    "    # Extract GLCM features for Random Forest\n",
    "    glcm_features = extract_glcm_features([img_resized])\n",
    "\n",
    "    # Store predictions in a dictionary\n",
    "    predictions = {}\n",
    "\n",
    "    # CNN prediction (if CNN model is provided)\n",
    "    if cnn_model:\n",
    "        try:\n",
    "            cnn_pred = cnn_model.predict(img_cnn)[0][0]  # Get the prediction\n",
    "            predictions[\"cnn\"] = \"Animal\" if cnn_pred >= 0.5 else \"No Animal\"\n",
    "        except Exception as e:\n",
    "            print(f\"Error during CNN prediction: {e}\")\n",
    "            predictions[\"cnn\"] = \"Error\"\n",
    "\n",
    "    # SVM prediction (if SVM model is provided)\n",
    "    if svm_model:\n",
    "        try:\n",
    "            svm_pred = svm_model.predict(hog_features)[0]\n",
    "            predictions[\"svm\"] = \"Animal\" if svm_pred == 1 else \"No Animal\"\n",
    "        except Exception as e:\n",
    "            print(f\"Error during SVM prediction: {e}\")\n",
    "            predictions[\"svm\"] = \"Error\"\n",
    "\n",
    "    # Random Forest prediction (if Random Forest model is provided)\n",
    "    if rf_model:\n",
    "        try:\n",
    "            rf_pred = rf_model.predict(glcm_features)[0]\n",
    "            predictions[\"rf\"] = \"Animal\" if rf_pred == 1 else \"No Animal\"\n",
    "        except Exception as e:\n",
    "            print(f\"Error during Random Forest prediction: {e}\")\n",
    "            predictions[\"rf\"] = \"Error\"\n",
    "\n",
    "    return predictions\n"
   ],
   "id": "fa6a96f3b614fbf4",
   "outputs": [],
   "execution_count": 313
  },
  {
   "metadata": {
    "ExecuteTime": {
     "end_time": "2025-03-19T13:18:44.305407Z",
     "start_time": "2025-03-19T13:18:43.296802Z"
    }
   },
   "cell_type": "code",
   "source": [
    "img_path = '/Users/resindunavoda/PycharmProjects/Wild_Animal_Detection/dee.jpg'\n",
    "result = predict_image(img_path, cnn_model=cnn_model, svm_model=svm_model, rf_model=rf_model)\n",
    "print(result)"
   ],
   "id": "e45af08b2856221e",
   "outputs": [
    {
     "name": "stdout",
     "output_type": "stream",
     "text": [
      "Image shape after resize: (224, 224)\n"
     ]
    },
    {
     "name": "stderr",
     "output_type": "stream",
     "text": [
      "Extracting GLCM features: 100%|██████████| 1/1 [00:00<00:00, 515.21it/s]\n"
     ]
    },
    {
     "name": "stdout",
     "output_type": "stream",
     "text": [
      "\u001B[1m1/1\u001B[0m \u001B[32m━━━━━━━━━━━━━━━━━━━━\u001B[0m\u001B[37m\u001B[0m \u001B[1m0s\u001B[0m 267ms/step\n",
      "{'cnn': 'Animal', 'svm': 'Animal', 'rf': 'Animal'}\n"
     ]
    }
   ],
   "execution_count": 314
  },
  {
   "metadata": {
    "ExecuteTime": {
     "end_time": "2025-03-19T13:29:36.438884Z",
     "start_time": "2025-03-19T13:29:36.371807Z"
    }
   },
   "cell_type": "code",
   "source": [
    "import numpy as np\n",
    "import pandas as pd\n",
    "from sklearn.metrics import accuracy_score, classification_report\n",
    "\n",
    "# Function to calculate performance metrics\n",
    "def get_metrics(y_true, y_pred):\n",
    "    report = classification_report(y_true, y_pred, output_dict=True)\n",
    "    accuracy = accuracy_score(y_true, y_pred) * 100\n",
    "    precision = report[\"1\"][\"precision\"]  # Assuming '1' is the positive class\n",
    "    recall = report[\"1\"][\"recall\"]\n",
    "    f1_score = report[\"1\"][\"f1-score\"]\n",
    "    return round(accuracy, 2), round(precision, 4), round(recall, 4), round(f1_score, 4)\n",
    "\n",
    "# Compute metrics for each model\n",
    "cnn_metrics = get_metrics(y_test, y_pred_cnn)\n",
    "svm_metrics = get_metrics(y_test, y_pred_svm)\n",
    "rf_metrics = get_metrics(y_test, y_pred_rf)\n",
    "\n",
    "# Create a comparison DataFrame\n",
    "model_comparison = pd.DataFrame({\n",
    "    \"Model\": [\"CNN\", \"SVM (HOG)\", \"Random Forest (GLCM)\"],\n",
    "    \"Feature Type\": [\"Raw Image (224x224)\", \"HOG\", \"GLCM\"],\n",
    "    \"Classifier\": [\"Deep Learning (CNN)\", \"Support Vector Machine\", \"Random Forest\"],\n",
    "    \"Accuracy (%)\": [cnn_metrics[0], svm_metrics[0], rf_metrics[0]],\n",
    "    \"Precision\": [cnn_metrics[1], svm_metrics[1], rf_metrics[1]],\n",
    "    \"Recall\": [cnn_metrics[2], svm_metrics[2], rf_metrics[2]],\n",
    "    \"F1-Score\": [cnn_metrics[3], svm_metrics[3], rf_metrics[3]]\n",
    "})\n",
    "\n",
    "# Stylish formatting for better display\n",
    "pd.set_option('display.colheader_justify', 'center')  # Center the column headers\n",
    "print(\"\\n📊 Model Performance Comparison\\n\")\n",
    "print(model_comparison.to_markdown(index=False))\n"
   ],
   "id": "cd43afd5228f16a9",
   "outputs": [
    {
     "name": "stdout",
     "output_type": "stream",
     "text": [
      "\n",
      "📊 Model Performance Comparison\n",
      "\n",
      "| Model                | Feature Type        | Classifier             |   Accuracy (%) |   Precision |   Recall |   F1-Score |\n",
      "|:---------------------|:--------------------|:-----------------------|---------------:|------------:|---------:|-----------:|\n",
      "| CNN                  | Raw Image (224x224) | Deep Learning (CNN)    |          89.21 |      0.9138 |   0.8083 |     0.8578 |\n",
      "| SVM (HOG)            | HOG                 | Support Vector Machine |          87.26 |      0.8394 |   0.8453 |     0.8423 |\n",
      "| Random Forest (GLCM) | GLCM                | Random Forest          |          85.12 |      0.8081 |   0.8268 |     0.8174 |\n"
     ]
    }
   ],
   "execution_count": 317
  },
  {
   "metadata": {},
   "cell_type": "code",
   "outputs": [],
   "execution_count": null,
   "source": "",
   "id": "7a2935601901e927"
  }
 ],
 "metadata": {
  "kernelspec": {
   "display_name": "Python 3",
   "language": "python",
   "name": "python3"
  },
  "language_info": {
   "codemirror_mode": {
    "name": "ipython",
    "version": 2
   },
   "file_extension": ".py",
   "mimetype": "text/x-python",
   "name": "python",
   "nbconvert_exporter": "python",
   "pygments_lexer": "ipython2",
   "version": "2.7.6"
  }
 },
 "nbformat": 4,
 "nbformat_minor": 5
}
